{
 "cells": [
  {
   "cell_type": "code",
   "execution_count": 7,
   "metadata": {},
   "outputs": [],
   "source": [
    "import pandas as pd \n",
    "import requests\n",
    "import json\n",
    "from PIL import Image\n",
    "import numpy as np\n",
    "from io import BytesIO"
   ]
  },
  {
   "cell_type": "code",
   "execution_count": 20,
   "metadata": {},
   "outputs": [],
   "source": [
    "with open('params.json', 'rb') as file:\n",
    "    PARAMS = json.load(file)"
   ]
  },
  {
   "cell_type": "code",
   "execution_count": 5,
   "metadata": {},
   "outputs": [],
   "source": [
    "def url_to_array(image_url):\n",
    "    # Télécharge l'image depuis l'URL\n",
    "    response = requests.get(image_url)\n",
    "    # Vérifie que le téléchargement s'est bien passé\n",
    "    if response.status_code == 200:\n",
    "        # Ouvre l'image avec Pillow depuis les données téléchargées\n",
    "        img = Image.open(BytesIO(response.content))\n",
    "        \n",
    "        # Convertit l'image en array NumPy\n",
    "        img_array = np.array(img)\n",
    "        \n",
    "        return img_array\n",
    "    else:\n",
    "        print(\"Erreur lors du téléchargement de l'image. Code d'état:\", response.status_code)\n",
    "        return None\n",
    "\n"
   ]
  },
  {
   "cell_type": "code",
   "execution_count": 8,
   "metadata": {},
   "outputs": [
    {
     "data": {
      "text/plain": [
       "array([[[240, 225, 228],\n",
       "        [240, 225, 228],\n",
       "        [240, 225, 228],\n",
       "        ...,\n",
       "        [188, 178, 189],\n",
       "        [187, 177, 188],\n",
       "        [187, 177, 188]],\n",
       "\n",
       "       [[240, 225, 228],\n",
       "        [240, 225, 228],\n",
       "        [240, 225, 228],\n",
       "        ...,\n",
       "        [189, 179, 190],\n",
       "        [188, 178, 189],\n",
       "        [188, 178, 189]],\n",
       "\n",
       "       [[239, 227, 229],\n",
       "        [239, 227, 229],\n",
       "        [239, 227, 229],\n",
       "        ...,\n",
       "        [190, 178, 190],\n",
       "        [190, 178, 190],\n",
       "        [190, 178, 190]],\n",
       "\n",
       "       ...,\n",
       "\n",
       "       [[  1,   1,   1],\n",
       "        [  1,   1,   1],\n",
       "        [  1,   1,   1],\n",
       "        ...,\n",
       "        [  2,   2,   2],\n",
       "        [  1,   1,   1],\n",
       "        [  0,   0,   0]],\n",
       "\n",
       "       [[  1,   1,   1],\n",
       "        [  1,   1,   1],\n",
       "        [  1,   1,   1],\n",
       "        ...,\n",
       "        [  1,   1,   1],\n",
       "        [  0,   0,   0],\n",
       "        [  0,   0,   0]],\n",
       "\n",
       "       [[  1,   1,   1],\n",
       "        [  1,   1,   1],\n",
       "        [  1,   1,   1],\n",
       "        ...,\n",
       "        [  1,   1,   1],\n",
       "        [  0,   0,   0],\n",
       "        [  0,   0,   0]]], dtype=uint8)"
      ]
     },
     "execution_count": 8,
     "metadata": {},
     "output_type": "execute_result"
    }
   ],
   "source": [
    "image_url = \"https://image.tmdb.org/t/p/w500/1E5baAaEse26fej7uHcjOgEE2t2.jpg\"\n",
    "result_array = url_to_array(image_url)\n",
    "result_array"
   ]
  }
 ],
 "metadata": {
  "kernelspec": {
   "display_name": ".venv",
   "language": "python",
   "name": "python3"
  },
  "language_info": {
   "codemirror_mode": {
    "name": "ipython",
    "version": 3
   },
   "file_extension": ".py",
   "mimetype": "text/x-python",
   "name": "python",
   "nbconvert_exporter": "python",
   "pygments_lexer": "ipython3",
   "version": "3.8.6"
  }
 },
 "nbformat": 4,
 "nbformat_minor": 2
}
